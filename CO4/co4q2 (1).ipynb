{
  "nbformat": 4,
  "nbformat_minor": 0,
  "metadata": {
    "colab": {
      "name": "co4q2.ipynb",
      "provenance": [],
      "collapsed_sections": []
    },
    "kernelspec": {
      "name": "python3",
      "display_name": "Python 3"
    },
    "language_info": {
      "name": "python"
    }
  },
  "cells": [
    {
      "cell_type": "code",
      "execution_count": null,
      "metadata": {
        "id": "Z6uZK0DYBZ20"
      },
      "outputs": [],
      "source": [
        "import tensorflow as tf\n",
        "from tensorflow.keras import datasets,layers,models\n",
        "import matplotlib.pyplot as plt\n",
        "import numpy as np\n",
        "from sklearn.metrics import classification_report\n"
      ]
    },
    {
      "cell_type": "code",
      "source": [
        "(x_train, y_train), (x_test, y_test) =datasets.cifar10.load_data()\n"
      ],
      "metadata": {
        "id": "q6GaOji2DrWT",
        "colab": {
          "base_uri": "https://localhost:8080/"
        },
        "outputId": "ee767b10-7ecb-41a2-d619-23932aef452f"
      },
      "execution_count": null,
      "outputs": [
        {
          "output_type": "stream",
          "name": "stdout",
          "text": [
            "Downloading data from https://www.cs.toronto.edu/~kriz/cifar-10-python.tar.gz\n",
            "170500096/170498071 [==============================] - 11s 0us/step\n",
            "170508288/170498071 [==============================] - 11s 0us/step\n"
          ]
        }
      ]
    },
    {
      "cell_type": "code",
      "source": [
        "x_train.shape"
      ],
      "metadata": {
        "colab": {
          "base_uri": "https://localhost:8080/"
        },
        "id": "24q4nLM3DxcK",
        "outputId": "8054950c-e51d-4d9c-a20d-4a1946e7a3c0"
      },
      "execution_count": null,
      "outputs": [
        {
          "output_type": "execute_result",
          "data": {
            "text/plain": [
              "(50000, 32, 32, 3)"
            ]
          },
          "metadata": {},
          "execution_count": 5
        }
      ]
    },
    {
      "cell_type": "code",
      "source": [
        "x_test.shape"
      ],
      "metadata": {
        "colab": {
          "base_uri": "https://localhost:8080/"
        },
        "id": "WPjycHIWyX_0",
        "outputId": "127386ec-07b1-418d-fa1c-413cab8270c1"
      },
      "execution_count": null,
      "outputs": [
        {
          "output_type": "execute_result",
          "data": {
            "text/plain": [
              "(10000, 32, 32, 3)"
            ]
          },
          "metadata": {},
          "execution_count": 6
        }
      ]
    },
    {
      "cell_type": "code",
      "source": [
        "classes=['airplane','automobile','bird','cat','deer','dog','frog','horse','ship','truck']"
      ],
      "metadata": {
        "id": "b08UWhOHye9o"
      },
      "execution_count": null,
      "outputs": []
    },
    {
      "cell_type": "code",
      "source": [
        "def plot_sample(x,y,index):\n",
        "  plt.figure(figsize=(10,1))\n",
        "  plt.imshow(x[index])\n",
        "  plt.xlabel(y[index])"
      ],
      "metadata": {
        "id": "P0aVxV2Hy9O4"
      },
      "execution_count": null,
      "outputs": []
    },
    {
      "cell_type": "code",
      "source": [
        "plot_sample(x_train,y_train,1)"
      ],
      "metadata": {
        "colab": {
          "base_uri": "https://localhost:8080/",
          "height": 174
        },
        "id": "8OjxKXM_zyu_",
        "outputId": "2aed98e0-2cc5-409d-c921-d0dcf887a531"
      },
      "execution_count": null,
      "outputs": [
        {
          "output_type": "stream",
          "name": "stderr",
          "text": [
            "/usr/local/lib/python3.7/dist-packages/matplotlib/text.py:1165: FutureWarning: elementwise comparison failed; returning scalar instead, but in the future will perform elementwise comparison\n",
            "  if s != self._text:\n"
          ]
        },
        {
          "output_type": "display_data",
          "data": {
            "image/png": "[encoded data removed]",
            "text/plain": [
              "<Figure size 720x72 with 1 Axes>"
            ]
          },
          "metadata": {
            "needs_background": "light"
          }
        }
      ]
    },
    {
      "cell_type": "code",
      "source": [
        "#normalization\n",
        "x_train=x_train/255\n",
        "x_test=x_test/255"
      ],
      "metadata": {
        "id": "-Zzc30ei0nYj"
      },
      "execution_count": null,
      "outputs": []
    },
    {
      "cell_type": "code",
      "source": [
        "#modeling\n",
        "cnn=models.Sequential([\n",
        "                       layers.Conv2D(filters=32,activation='relu',kernel_size=(3,3),input_shape=(32,32,3)),layers.MaxPooling2D((2,2)),\n",
        "                       layers.Conv2D(filters=64,activation='relu',kernel_size=(3,3),input_shape=(32,32,3)),layers.MaxPooling2D((2,2)),\n",
        "                       layers.Flatten(),\n",
        "                       layers.Dense(64,activation='relu'),\n",
        "                       layers.Dense(10,activation='softmax'),\n",
        "\n",
        "])"
      ],
      "metadata": {
        "id": "_a-XZFQN0wsh"
      },
      "execution_count": null,
      "outputs": []
    },
    {
      "cell_type": "code",
      "source": [
        "cnn.compile(optimizer='adam',loss='sparse_categorical_crossentropy',metrics=['accuracy'])"
      ],
      "metadata": {
        "id": "GKnWs7mZ2beR"
      },
      "execution_count": null,
      "outputs": []
    },
    {
      "cell_type": "code",
      "source": [
        "cnn.fit(x_train,y_train,epochs=25)"
      ],
      "metadata": {
        "colab": {
          "base_uri": "https://localhost:8080/"
        },
        "id": "mnRSfXJB25GY",
        "outputId": "111d2406-cd63-41eb-cb9a-2da70efb5059"
      },
      "execution_count": null,
      "outputs": [
        {
          "output_type": "stream",
          "name": "stdout",
          "text": [
            "Epoch 1/25\n",
            "1563/1563 [==============================] - 70s 45ms/step - loss: 0.5583 - accuracy: 0.8054\n",
            "Epoch 2/25\n",
            "1563/1563 [==============================] - 70s 45ms/step - loss: 0.5210 - accuracy: 0.8162\n",
            "Epoch 3/25\n",
            "1563/1563 [==============================] - 70s 45ms/step - loss: 0.4911 - accuracy: 0.8255\n",
            "Epoch 4/25\n",
            "1563/1563 [==============================] - 69s 44ms/step - loss: 0.4613 - accuracy: 0.8373\n",
            "Epoch 5/25\n",
            "1563/1563 [==============================] - 68s 44ms/step - loss: 0.4329 - accuracy: 0.8469\n",
            "Epoch 6/25\n",
            "1563/1563 [==============================] - 70s 45ms/step - loss: 0.4067 - accuracy: 0.8549\n",
            "Epoch 7/25\n",
            "1563/1563 [==============================] - 69s 44ms/step - loss: 0.3831 - accuracy: 0.8640\n",
            "Epoch 8/25\n",
            "1563/1563 [==============================] - 70s 45ms/step - loss: 0.3555 - accuracy: 0.8733\n",
            "Epoch 9/25\n",
            "1563/1563 [==============================] - 70s 45ms/step - loss: 0.3340 - accuracy: 0.8800\n",
            "Epoch 10/25\n",
            "1563/1563 [==============================] - 69s 44ms/step - loss: 0.3153 - accuracy: 0.8876\n",
            "Epoch 11/25\n",
            "1563/1563 [==============================] - 70s 45ms/step - loss: 0.2970 - accuracy: 0.8921\n",
            "Epoch 12/25\n",
            "1563/1563 [==============================] - 71s 46ms/step - loss: 0.2756 - accuracy: 0.9017\n",
            "Epoch 13/25\n",
            "1563/1563 [==============================] - 68s 44ms/step - loss: 0.2604 - accuracy: 0.9060\n",
            "Epoch 14/25\n",
            "1563/1563 [==============================] - 69s 44ms/step - loss: 0.2458 - accuracy: 0.9120\n",
            "Epoch 15/25\n",
            "1563/1563 [==============================] - 69s 44ms/step - loss: 0.2296 - accuracy: 0.9172\n",
            "Epoch 16/25\n",
            "1563/1563 [==============================] - 69s 44ms/step - loss: 0.2208 - accuracy: 0.9200\n",
            "Epoch 17/25\n",
            "1563/1563 [==============================] - 70s 45ms/step - loss: 0.2039 - accuracy: 0.9257\n",
            "Epoch 18/25\n",
            "1563/1563 [==============================] - 70s 45ms/step - loss: 0.1988 - accuracy: 0.9289\n",
            "Epoch 19/25\n",
            "1563/1563 [==============================] - 70s 45ms/step - loss: 0.1846 - accuracy: 0.9333\n",
            "Epoch 20/25\n",
            "1563/1563 [==============================] - 69s 44ms/step - loss: 0.1784 - accuracy: 0.9345\n",
            "Epoch 21/25\n",
            "1563/1563 [==============================] - 70s 45ms/step - loss: 0.1676 - accuracy: 0.9382\n",
            "Epoch 22/25\n",
            "1563/1563 [==============================] - 71s 45ms/step - loss: 0.1575 - accuracy: 0.9423\n",
            "Epoch 23/25\n",
            "1563/1563 [==============================] - 71s 45ms/step - loss: 0.1612 - accuracy: 0.9415\n",
            "Epoch 24/25\n",
            "1563/1563 [==============================] - 76s 48ms/step - loss: 0.1432 - accuracy: 0.9483\n",
            "Epoch 25/25\n",
            "1563/1563 [==============================] - 73s 47ms/step - loss: 0.1461 - accuracy: 0.9479\n"
          ]
        },
        {
          "output_type": "execute_result",
          "data": {
            "text/plain": [
              "<keras.callbacks.History at 0x7f27e46b7d10>"
            ]
          },
          "metadata": {},
          "execution_count": 34
        }
      ]
    },
    {
      "cell_type": "code",
      "source": [
        "cnn.evaluate(x_test,y_test)"
      ],
      "metadata": {
        "colab": {
          "base_uri": "https://localhost:8080/"
        },
        "id": "RvAGfwMk6A97",
        "outputId": "1e05102c-f90d-4a80-899e-c69e74dd027a"
      },
      "execution_count": null,
      "outputs": [
        {
          "output_type": "stream",
          "name": "stdout",
          "text": [
            "313/313 [==============================] - 5s 14ms/step - loss: 2.3730 - accuracy: 0.6703\n"
          ]
        },
        {
          "output_type": "execute_result",
          "data": {
            "text/plain": [
              "[2.3729841709136963, 0.6703000068664551]"
            ]
          },
          "metadata": {},
          "execution_count": 35
        }
      ]
    },
    {
      "cell_type": "code",
      "source": [
        "y_test=y_test.reshape(-1,)\n",
        "y_predict=cnn.predict(x_test)"
      ],
      "metadata": {
        "id": "FJZ84oaJ6PdO"
      },
      "execution_count": null,
      "outputs": []
    },
    {
      "cell_type": "code",
      "source": [
        "y_classes=[np.argmax(element) for element in y_predict]\n",
        "print('classification report:\\n',classification_report(y_test,y_classes))"
      ],
      "metadata": {
        "colab": {
          "base_uri": "https://localhost:8080/"
        },
        "id": "e5ZmXXgb63ku",
        "outputId": "6b078ba7-44bf-423a-b582-21e04ab7575f"
      },
      "execution_count": null,
      "outputs": [
        {
          "output_type": "stream",
          "name": "stdout",
          "text": [
            "classification report:\n",
            "               precision    recall  f1-score   support\n",
            "\n",
            "           0       0.69      0.74      0.71      1000\n",
            "           1       0.84      0.73      0.78      1000\n",
            "           2       0.65      0.51      0.57      1000\n",
            "           3       0.45      0.52      0.48      1000\n",
            "           4       0.58      0.62      0.60      1000\n",
            "           5       0.57      0.56      0.57      1000\n",
            "           6       0.74      0.74      0.74      1000\n",
            "           7       0.70      0.73      0.71      1000\n",
            "           8       0.81      0.76      0.78      1000\n",
            "           9       0.74      0.79      0.76      1000\n",
            "\n",
            "    accuracy                           0.67     10000\n",
            "   macro avg       0.68      0.67      0.67     10000\n",
            "weighted avg       0.68      0.67      0.67     10000\n",
            "\n"
          ]
        }
      ]
    },
    {
      "cell_type": "code",
      "source": [
        ""
      ],
      "metadata": {
        "id": "5qHdsIKlFRBq"
      },
      "execution_count": null,
      "outputs": []
    }
  ]
}