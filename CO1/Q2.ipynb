{
  "nbformat": 4,
  "nbformat_minor": 0,
  "metadata": {
    "colab": {
      "name": "SVD.ipynb",
      "provenance": [],
      "collapsed_sections": []
    },
    "kernelspec": {
      "name": "python3",
      "display_name": "Python 3"
    },
    "language_info": {
      "name": "python"
    }
  },
  "cells": [
    {
      "cell_type": "code",
      "execution_count": null,
      "metadata": {
        "id": "M05_Ant3mT2A"
      },
      "outputs": [],
      "source": [
        "SVD\n",
        "This method allows you to get complete S, U, V\n",
        "import numpy as np\n",
        "from numpy.linalg import svd\n",
        "# this matrix has rank=2, since col3 = col1+co2, \n",
        "## but col1 and col2 are independent from each other\n",
        "\n",
        "A = np.array([[1,2,3], [4,5,6], [5,7,9]])\n",
        "\n",
        "U, S, VT = svd(A)\n",
        "print(\"Left Singular Vectors:\")\n",
        "print(U)\n",
        "print(\"Singular Values:\") \n",
        "print(np.diag(S))\n",
        "print(\"Right Singular Vectors:\") \n",
        "print(VT)\n",
        "Left Singular Vectors:\n",
        "[[-0.2354116   0.78182354 -0.57735027]\n",
        " [-0.55937325 -0.5947842  -0.57735027]\n",
        " [-0.79478485  0.18703934  0.57735027]]\n",
        "Singular Values:\n",
        "[[1.56633231e+01 0.00000000e+00 0.00000000e+00]\n",
        " [0.00000000e+00 8.12593979e-01 0.00000000e+00]\n",
        " [0.00000000e+00 0.00000000e+00 1.17807579e-15]]\n",
        "Right Singular Vectors:\n",
        "[[-0.41158755 -0.56381288 -0.71603821]\n",
        " [-0.8148184  -0.12429146  0.56623547]\n",
        " [-0.40824829  0.81649658 -0.40824829]]\n",
        "# Return the original matrix A\n",
        "# @ is used for matrix multiplication in Py3, use np.matmul with Py2\n",
        "print(U @ np.diag(S) @ VT)\n",
        "[[1. 2. 3.]\n",
        " [4. 5. 6.]\n",
        " [5. 7. 9.]]\n",
        "SVD\n",
        "Sklearn Truncated SVD - This is used for dimensional reduction directly\n",
        "import numpy as np\n",
        "from sklearn.decomposition import TruncatedSVD\n",
        "A = np.array([[1,2,3], [4,5,6], [5,7,9]])\n",
        "print(\"Original Matrix:\")\n",
        "A\n",
        "Original Matrix:\n",
        "array([[1, 2, 3],\n",
        "       [4, 5, 6],\n",
        "       [5, 7, 9]])\n",
        "svd =  TruncatedSVD(n_components = 2)  # reduce to 2 features\n",
        "A_transf = svd.fit_transform(A)\n",
        "\n",
        "print(\"Singular values:\")\n",
        "print(svd.singular_values_)\n",
        "print()\n",
        "\n",
        "print(\"Transformed Matrix after reducing to 2 features:\")\n",
        "print(A_transf)\n",
        "Singular values:\n",
        "[15.66332312  0.81259398]\n",
        "\n",
        "Transformed Matrix after reducing to 2 features:\n",
        "[[ 3.68732795  0.6353051 ]\n",
        " [ 8.76164389 -0.48331806]\n",
        " [12.44897184  0.15198704]]"
      ]
    },
    {
      "cell_type": "code",
      "source": [
        ""
      ],
      "metadata": {
        "id": "vAcEbwKymcD8"
      },
      "execution_count": null,
      "outputs": []
    },
    {
      "cell_type": "markdown",
      "source": [
        "SVD-\n",
        "This method allows you to get complete S, U, V\n"
      ],
      "metadata": {
        "id": "xozkJUT6mc8Y"
      }
    },
    {
      "cell_type": "code",
      "source": [
        "import numpy as np\n",
        "from numpy.linalg import svd"
      ],
      "metadata": {
        "id": "aqS0zxX4mlhW"
      },
      "execution_count": 1,
      "outputs": []
    },
    {
      "cell_type": "code",
      "source": [
        "A = np.array([[1,2,3], [4,5,6], [5,7,9]])"
      ],
      "metadata": {
        "id": "Pe3xIiWbmvvh"
      },
      "execution_count": 2,
      "outputs": []
    },
    {
      "cell_type": "code",
      "source": [
        "U, S, VT = svd(A)\n",
        "print(\"Left Singular Vectors:\")\n",
        "print(U)\n",
        "print(\"Singular Values:\") \n",
        "print(np.diag(S))\n",
        "print(\"Right Singular Vectors:\") \n",
        "print(VT)"
      ],
      "metadata": {
        "colab": {
          "base_uri": "https://localhost:8080/"
        },
        "id": "j95Ji3GAm1MV",
        "outputId": "e5f86f3e-e74e-47c9-f624-4a4b1e154ca2"
      },
      "execution_count": 3,
      "outputs": [
        {
          "output_type": "stream",
          "name": "stdout",
          "text": [
            "Left Singular Vectors:\n",
            "[[-0.2354116   0.78182354 -0.57735027]\n",
            " [-0.55937325 -0.5947842  -0.57735027]\n",
            " [-0.79478485  0.18703934  0.57735027]]\n",
            "Singular Values:\n",
            "[[1.56633231e+01 0.00000000e+00 0.00000000e+00]\n",
            " [0.00000000e+00 8.12593979e-01 0.00000000e+00]\n",
            " [0.00000000e+00 0.00000000e+00 1.13716384e-15]]\n",
            "Right Singular Vectors:\n",
            "[[-0.41158755 -0.56381288 -0.71603821]\n",
            " [-0.8148184  -0.12429146  0.56623547]\n",
            " [-0.40824829  0.81649658 -0.40824829]]\n"
          ]
        }
      ]
    },
    {
      "cell_type": "code",
      "source": [
        "# Return the original matrix A\n",
        "# @ is used for matrix multiplication in Py3, use np.matmul with Py2\n",
        "print(U @ np.diag(S) @ VT)"
      ],
      "metadata": {
        "colab": {
          "base_uri": "https://localhost:8080/"
        },
        "id": "0tAXoaTwm-Tt",
        "outputId": "c5b221b7-41fb-46ca-a5ee-04bb6fe8d418"
      },
      "execution_count": 4,
      "outputs": [
        {
          "output_type": "stream",
          "name": "stdout",
          "text": [
            "[[1. 2. 3.]\n",
            " [4. 5. 6.]\n",
            " [5. 7. 9.]]\n"
          ]
        }
      ]
    },
    {
      "cell_type": "code",
      "source": [
        "#SVD\n",
        "#Sklearn Truncated SVD - This is used for dimensional reduction directly\n",
        "import numpy as np\n",
        "from sklearn.decomposition import TruncatedSVD\n",
        "A = np.array([[1,2,3], [4,5,6], [5,7,9]])\n",
        "print(\"Original Matrix:\")\n",
        "A\n"
      ],
      "metadata": {
        "colab": {
          "base_uri": "https://localhost:8080/"
        },
        "id": "KuJH6GConFgT",
        "outputId": "75de3104-f9f2-448a-ee29-cee3978fe1d3"
      },
      "execution_count": 5,
      "outputs": [
        {
          "output_type": "stream",
          "name": "stdout",
          "text": [
            "Original Matrix:\n"
          ]
        },
        {
          "output_type": "execute_result",
          "data": {
            "text/plain": [
              "array([[1, 2, 3],\n",
              "       [4, 5, 6],\n",
              "       [5, 7, 9]])"
            ]
          },
          "metadata": {},
          "execution_count": 5
        }
      ]
    },
    {
      "cell_type": "code",
      "source": [
        "svd =  TruncatedSVD(n_components = 2)  # reduce to 2 features\n",
        "A_transf = svd.fit_transform(A)\n",
        "\n"
      ],
      "metadata": {
        "id": "CmpmcQWlneRL"
      },
      "execution_count": 7,
      "outputs": []
    },
    {
      "cell_type": "code",
      "source": [
        "print(\"Singular values:\")\n",
        "print(svd.singular_values_)\n",
        "print()"
      ],
      "metadata": {
        "colab": {
          "base_uri": "https://localhost:8080/"
        },
        "id": "rAbPLiqdnr1J",
        "outputId": "e390b7cd-56f3-4053-8c27-6df8f2982e6e"
      },
      "execution_count": 8,
      "outputs": [
        {
          "output_type": "stream",
          "name": "stdout",
          "text": [
            "Singular values:\n",
            "[15.66332312  0.81259398]\n",
            "\n"
          ]
        }
      ]
    },
    {
      "cell_type": "code",
      "source": [
        "print(\"Transformed Matrix after reducing to 2 features:\")\n",
        "print(A_transf)"
      ],
      "metadata": {
        "colab": {
          "base_uri": "https://localhost:8080/"
        },
        "id": "oF3Irp8Wnt16",
        "outputId": "dd721aba-1f4d-44cf-f529-da2f18b5f5e2"
      },
      "execution_count": 9,
      "outputs": [
        {
          "output_type": "stream",
          "name": "stdout",
          "text": [
            "Transformed Matrix after reducing to 2 features:\n",
            "[[ 3.68732795  0.6353051 ]\n",
            " [ 8.76164389 -0.48331806]\n",
            " [12.44897184  0.15198704]]\n"
          ]
        }
      ]
    }
  ]
}