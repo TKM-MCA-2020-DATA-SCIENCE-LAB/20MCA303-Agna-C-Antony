{
  "nbformat": 4,
  "nbformat_minor": 0,
  "metadata": {
    "colab": {
      "name": "CO1Q1.ipynb",
      "provenance": [],
      "collapsed_sections": []
    },
    "kernelspec": {
      "name": "python3",
      "display_name": "Python 3"
    },
    "language_info": {
      "name": "python"
    }
  },
  "cells": [
    {
      "cell_type": "code",
      "execution_count": 1,
      "metadata": {
        "colab": {
          "base_uri": "https://localhost:8080/",
          "height": 130
        },
        "id": "zchRSvqy92Js",
        "outputId": "a211b88d-9fc6-4050-d182-23d5427164b6"
      },
      "outputs": [
        {
          "output_type": "error",
          "ename": "SyntaxError",
          "evalue": "ignored",
          "traceback": [
            "\u001b[0;36m  File \u001b[0;32m\"<ipython-input-1-6b1f9bf552a9>\"\u001b[0;36m, line \u001b[0;32m75\u001b[0m\n\u001b[0;31m    BCA Course\u001b[0m\n\u001b[0m             ^\u001b[0m\n\u001b[0;31mSyntaxError\u001b[0m\u001b[0;31m:\u001b[0m invalid syntax\n"
          ]
        }
      ],
      "source": [
        "#Addition\n",
        "5+2\n",
        "7\n",
        "#Sub\n",
        "8-2\n",
        "6\n",
        "#Mul\n",
        "5*3\n",
        "15\n",
        "#Div\n",
        "10/2\n",
        "5.0\n",
        "#Power\n",
        "2**3\n",
        "8\n",
        "#Modulus\n",
        "20%2\n",
        "0\n",
        "#String\n",
        "'Hello Welcome'\n",
        "'Hello Welcome'\n",
        "#Variable assignment\n",
        "a=10\n",
        "b=15\n",
        "c=a+b\n",
        "print(c)\n",
        "25\n",
        "#list\n",
        "ls=[10,20,30,40,50]\n",
        "ls.append(60)\n",
        "ls\n",
        "[10, 20, 30, 40, 50, 60]\n",
        "ls[3]\n",
        "40\n",
        "ls[0:3]\n",
        "[10, 20, 30]\n",
        "ls[4:]\n",
        "[50, 60]\n",
        "ls[::-1]\n",
        "[60, 50, 40, 30, 20, 10]\n",
        "#Dictionary\n",
        "d={'Rasika':'30','Novri':'32','Anila':'40'}\n",
        "d\n",
        "{'Anila': '40', 'Novri': '32', 'Rasika': '30'}\n",
        "d['Novri']\n",
        "'32'\n",
        "#comparison\n",
        "6>2\n",
        "True\n",
        "6<2\n",
        "False\n",
        "2==2\n",
        "True\n",
        "#Loops\n",
        "i = 1\n",
        "while i < 10:\n",
        "  print(i)\n",
        "  i += 1\n",
        "1\n",
        "2\n",
        "3\n",
        "4\n",
        "5\n",
        "6\n",
        "7\n",
        "8\n",
        "9\n",
        "#functions\n",
        "def Course_details(fname):\n",
        "  print(fname + \" Course\")\n",
        "\n",
        "Course_details(\"BCA\")\n",
        "Course_details(\"MCA\")\n",
        "Course_details(\"MA\")\n",
        "BCA Course\n",
        "MCA Course\n",
        "MA Course"
      ]
    },
    {
      "cell_type": "code",
      "source": [
        ""
      ],
      "metadata": {
        "id": "WjoqXZ5B9-Or"
      },
      "execution_count": null,
      "outputs": []
    },
    {
      "cell_type": "markdown",
      "source": [
        "REVIEW OF PYTHON PROGRAMMING\n"
      ],
      "metadata": {
        "id": "UP6OruRi9_DF"
      }
    },
    {
      "cell_type": "code",
      "source": [
        "#Addition\n",
        "7+187"
      ],
      "metadata": {
        "colab": {
          "base_uri": "https://localhost:8080/"
        },
        "id": "oFo7Ny0A-D7m",
        "outputId": "f34bb269-8cd4-466a-bb5c-f29009c8d953"
      },
      "execution_count": 2,
      "outputs": [
        {
          "output_type": "execute_result",
          "data": {
            "text/plain": [
              "194"
            ]
          },
          "metadata": {},
          "execution_count": 2
        }
      ]
    },
    {
      "cell_type": "code",
      "source": [
        "#SUBSTARCTION\n",
        "890-765"
      ],
      "metadata": {
        "colab": {
          "base_uri": "https://localhost:8080/"
        },
        "id": "E9X51XmH-LQh",
        "outputId": "15a97e56-fff0-42dd-edda-8edd5956bce0"
      },
      "execution_count": 3,
      "outputs": [
        {
          "output_type": "execute_result",
          "data": {
            "text/plain": [
              "125"
            ]
          },
          "metadata": {},
          "execution_count": 3
        }
      ]
    },
    {
      "cell_type": "code",
      "source": [
        "#Multiplication\n",
        "67*5"
      ],
      "metadata": {
        "colab": {
          "base_uri": "https://localhost:8080/"
        },
        "id": "4IUBSEWe-Vbj",
        "outputId": "49e6424a-542a-4a7e-982c-7e1c2a2985e2"
      },
      "execution_count": 4,
      "outputs": [
        {
          "output_type": "execute_result",
          "data": {
            "text/plain": [
              "335"
            ]
          },
          "metadata": {},
          "execution_count": 4
        }
      ]
    },
    {
      "cell_type": "code",
      "source": [
        "#Division\n",
        "78/3"
      ],
      "metadata": {
        "colab": {
          "base_uri": "https://localhost:8080/"
        },
        "id": "PgMMdO1--cFv",
        "outputId": "4387c813-bacd-4647-90b3-512ea205faac"
      },
      "execution_count": 5,
      "outputs": [
        {
          "output_type": "execute_result",
          "data": {
            "text/plain": [
              "26.0"
            ]
          },
          "metadata": {},
          "execution_count": 5
        }
      ]
    },
    {
      "cell_type": "code",
      "source": [
        "#power\n",
        "4**3"
      ],
      "metadata": {
        "colab": {
          "base_uri": "https://localhost:8080/"
        },
        "id": "QXnzH8ut-hjE",
        "outputId": "0a154466-80f9-4af0-a97f-fcf6e69982ba"
      },
      "execution_count": 6,
      "outputs": [
        {
          "output_type": "execute_result",
          "data": {
            "text/plain": [
              "64"
            ]
          },
          "metadata": {},
          "execution_count": 6
        }
      ]
    },
    {
      "cell_type": "code",
      "source": [
        "#Modulus\n",
        "257%2"
      ],
      "metadata": {
        "colab": {
          "base_uri": "https://localhost:8080/"
        },
        "id": "_AG7Q1dL-oBV",
        "outputId": "e0d0fec1-1279-41f0-d5c0-c660ca4d80bd"
      },
      "execution_count": 7,
      "outputs": [
        {
          "output_type": "execute_result",
          "data": {
            "text/plain": [
              "1"
            ]
          },
          "metadata": {},
          "execution_count": 7
        }
      ]
    },
    {
      "cell_type": "code",
      "source": [
        "#String\n",
        "'Hello Welcome to ds lab'"
      ],
      "metadata": {
        "colab": {
          "base_uri": "https://localhost:8080/",
          "height": 35
        },
        "id": "JC3pKSsd-8qZ",
        "outputId": "bb47a2c5-25a7-4de2-cef5-baaae7a4f2de"
      },
      "execution_count": 9,
      "outputs": [
        {
          "output_type": "execute_result",
          "data": {
            "application/vnd.google.colaboratory.intrinsic+json": {
              "type": "string"
            },
            "text/plain": [
              "'Hello Welcome to ds lab'"
            ]
          },
          "metadata": {},
          "execution_count": 9
        }
      ]
    },
    {
      "cell_type": "code",
      "source": [
        "#Variable assignment\n",
        "a=10\n",
        "b=15\n",
        "c=a+b\n",
        "print(c)"
      ],
      "metadata": {
        "colab": {
          "base_uri": "https://localhost:8080/"
        },
        "id": "Ae3tHRSn_Bt7",
        "outputId": "2bce0c60-25c4-4625-be8f-05e9316e81db"
      },
      "execution_count": 10,
      "outputs": [
        {
          "output_type": "stream",
          "name": "stdout",
          "text": [
            "25\n"
          ]
        }
      ]
    },
    {
      "cell_type": "code",
      "source": [
        "#list\n",
        "ls=[10,20,30,40,50]\n",
        "ls\n"
      ],
      "metadata": {
        "colab": {
          "base_uri": "https://localhost:8080/"
        },
        "id": "E72g8g6D_GPz",
        "outputId": "9043a985-6f76-472f-f99d-08d7474a1171"
      },
      "execution_count": 14,
      "outputs": [
        {
          "output_type": "execute_result",
          "data": {
            "text/plain": [
              "[10, 20, 30, 40, 50]"
            ]
          },
          "metadata": {},
          "execution_count": 14
        }
      ]
    },
    {
      "cell_type": "code",
      "source": [
        "ls[2]\n"
      ],
      "metadata": {
        "colab": {
          "base_uri": "https://localhost:8080/"
        },
        "id": "GMPUecsb_iWe",
        "outputId": "bb6d0c3a-1a4c-4916-946f-079f815111bc"
      },
      "execution_count": 16,
      "outputs": [
        {
          "output_type": "execute_result",
          "data": {
            "text/plain": [
              "30"
            ]
          },
          "metadata": {},
          "execution_count": 16
        }
      ]
    },
    {
      "cell_type": "code",
      "source": [
        "ls.append(89)\n",
        "ls\n"
      ],
      "metadata": {
        "colab": {
          "base_uri": "https://localhost:8080/"
        },
        "id": "XL1Lp7I3_ubs",
        "outputId": "9e8d449d-c6b3-47b6-9d57-7ffd4b9da7cd"
      },
      "execution_count": 17,
      "outputs": [
        {
          "output_type": "execute_result",
          "data": {
            "text/plain": [
              "[10, 20, 30, 40, 50, 89, 89]"
            ]
          },
          "metadata": {},
          "execution_count": 17
        }
      ]
    },
    {
      "cell_type": "code",
      "source": [
        "ls[0:4]\n"
      ],
      "metadata": {
        "colab": {
          "base_uri": "https://localhost:8080/"
        },
        "id": "pqoQFvYB_yFy",
        "outputId": "4f44cf1e-b75a-4440-f9ac-e89157ebd643"
      },
      "execution_count": 18,
      "outputs": [
        {
          "output_type": "execute_result",
          "data": {
            "text/plain": [
              "[10, 20, 30, 40]"
            ]
          },
          "metadata": {},
          "execution_count": 18
        }
      ]
    },
    {
      "cell_type": "code",
      "source": [
        "ls[1:]\n"
      ],
      "metadata": {
        "colab": {
          "base_uri": "https://localhost:8080/"
        },
        "id": "sR0LjKc8_2GV",
        "outputId": "3fceedcf-e7b2-4cf7-fc86-36621db4b5d3"
      },
      "execution_count": 19,
      "outputs": [
        {
          "output_type": "execute_result",
          "data": {
            "text/plain": [
              "[20, 30, 40, 50, 89, 89]"
            ]
          },
          "metadata": {},
          "execution_count": 19
        }
      ]
    },
    {
      "cell_type": "code",
      "source": [
        "ls[::-1]"
      ],
      "metadata": {
        "colab": {
          "base_uri": "https://localhost:8080/"
        },
        "id": "t2zxcIJp_4zc",
        "outputId": "f306d305-567c-4299-f376-d215b1737e5d"
      },
      "execution_count": 20,
      "outputs": [
        {
          "output_type": "execute_result",
          "data": {
            "text/plain": [
              "[89, 89, 50, 40, 30, 20, 10]"
            ]
          },
          "metadata": {},
          "execution_count": 20
        }
      ]
    },
    {
      "cell_type": "code",
      "source": [
        "#Dictionary\n",
        "d={'Agna':'60','Nidhi':'62','sree':'60'}\n",
        "d"
      ],
      "metadata": {
        "colab": {
          "base_uri": "https://localhost:8080/"
        },
        "id": "OEUgEiUR_55O",
        "outputId": "c7b580ab-a6ac-4304-c87c-3f5fbfacad90"
      },
      "execution_count": 21,
      "outputs": [
        {
          "output_type": "execute_result",
          "data": {
            "text/plain": [
              "{'Agna': '60', 'Nidhi': '62', 'sree': '60'}"
            ]
          },
          "metadata": {},
          "execution_count": 21
        }
      ]
    },
    {
      "cell_type": "code",
      "source": [
        "d['sree']"
      ],
      "metadata": {
        "colab": {
          "base_uri": "https://localhost:8080/",
          "height": 35
        },
        "id": "klWoH3u2AJtt",
        "outputId": "17a086dc-3cfb-4499-af08-7aa9e375d7fe"
      },
      "execution_count": 22,
      "outputs": [
        {
          "output_type": "execute_result",
          "data": {
            "application/vnd.google.colaboratory.intrinsic+json": {
              "type": "string"
            },
            "text/plain": [
              "'60'"
            ]
          },
          "metadata": {},
          "execution_count": 22
        }
      ]
    },
    {
      "cell_type": "code",
      "source": [
        "#comparison\n",
        "6>20"
      ],
      "metadata": {
        "colab": {
          "base_uri": "https://localhost:8080/"
        },
        "id": "J-nwk4SoAP-F",
        "outputId": "b74f4c06-fb1d-4011-f10f-2174018262c0"
      },
      "execution_count": 26,
      "outputs": [
        {
          "output_type": "execute_result",
          "data": {
            "text/plain": [
              "False"
            ]
          },
          "metadata": {},
          "execution_count": 26
        }
      ]
    },
    {
      "cell_type": "code",
      "source": [
        "89<100"
      ],
      "metadata": {
        "colab": {
          "base_uri": "https://localhost:8080/"
        },
        "id": "NUp87z1NAiF0",
        "outputId": "a1e634e2-0c24-40dc-dcbd-89f8d0f8c6de"
      },
      "execution_count": 27,
      "outputs": [
        {
          "output_type": "execute_result",
          "data": {
            "text/plain": [
              "True"
            ]
          },
          "metadata": {},
          "execution_count": 27
        }
      ]
    },
    {
      "cell_type": "code",
      "source": [
        "780==459"
      ],
      "metadata": {
        "colab": {
          "base_uri": "https://localhost:8080/"
        },
        "id": "RbpkuZhBAk85",
        "outputId": "9393a2a4-ba68-4025-f13b-6720e3337c72"
      },
      "execution_count": 28,
      "outputs": [
        {
          "output_type": "execute_result",
          "data": {
            "text/plain": [
              "False"
            ]
          },
          "metadata": {},
          "execution_count": 28
        }
      ]
    },
    {
      "cell_type": "code",
      "source": [
        "#Loops\n",
        "i = 0\n",
        "while i < 60:\n",
        "  print(i)\n",
        "  i += 3"
      ],
      "metadata": {
        "colab": {
          "base_uri": "https://localhost:8080/"
        },
        "id": "e0L2xx54Amts",
        "outputId": "adb06fae-d48e-453c-b749-48b486a556ad"
      },
      "execution_count": 30,
      "outputs": [
        {
          "output_type": "stream",
          "name": "stdout",
          "text": [
            "0\n",
            "3\n",
            "6\n",
            "9\n",
            "12\n",
            "15\n",
            "18\n",
            "21\n",
            "24\n",
            "27\n",
            "30\n",
            "33\n",
            "36\n",
            "39\n",
            "42\n",
            "45\n",
            "48\n",
            "51\n",
            "54\n",
            "57\n"
          ]
        }
      ]
    },
    {
      "cell_type": "code",
      "source": [
        "#functions\n",
        "def Course_details(fname):\n",
        "  print(fname + \" Course\")\n",
        "\n",
        "\n",
        "Course_details(\"BCA\")\n",
        "Course_details(\"Bsc\")\n",
        "Course_details(\"MCA\")\n",
        "Course_details(\"MSc\")"
      ],
      "metadata": {
        "colab": {
          "base_uri": "https://localhost:8080/"
        },
        "id": "xm2-4igrA0dX",
        "outputId": "742fae08-979c-4c9b-a05e-dc0d21bf9789"
      },
      "execution_count": 32,
      "outputs": [
        {
          "output_type": "stream",
          "name": "stdout",
          "text": [
            "BCA Course\n",
            "Bsc Course\n",
            "MCA Course\n",
            "MSc Course\n"
          ]
        }
      ]
    }
  ]
}